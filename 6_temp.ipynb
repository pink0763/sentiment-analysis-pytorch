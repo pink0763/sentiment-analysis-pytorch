{
 "cells": [
  {
   "cell_type": "markdown",
   "metadata": {},
   "source": [
    "#### Max Pooling layer\n",
    "\n",
    "Spatial invariance is the feature of neural network thanks to which the model is capable of recognizing the same features even if they are a bit different, have different texture, shape or orientation. The max-pooling operation simply takes the maximum value from the max-pooling box that is applied to the feature map. High numbers on the feature map are representing the high similarity to given feature, so by taking the maximum values we will get rid of irrelevant features, and at the same time because we take the maximum from for example the 2x2 box we enable spatial invariance of the model because it doesn't matter if the feature is located on the top left corner or bottom right corner of the max-pooling box we still are able to extract that feature.\n",
    "<br>\n",
    "<br>\n",
    "<div>\n",
    "\n",
    "<div/>\n",
    "<p style='text-align: center;'>Max-pooling operation [https://computersciencewiki.org/index.php/Max-pooling_/_Pooling]</p>\n",
    "\n",
    "<br>"
   ]
  },
  {
   "cell_type": "markdown",
   "metadata": {},
   "source": [
    "### Building and training the model\n",
    "\n",
    "Let's start with importing all indispensable libraries."
   ]
  },
  {
   "cell_type": "code",
   "execution_count": null,
   "metadata": {},
   "outputs": [],
   "source": [
    "from batch_iterator import BatchIterator\n",
    "from early_stopping import EarlyStopping\n",
    "import pandas as pd\n",
    "import torch\n",
    "import torch.nn as nn\n",
    "import torch.nn.functional as F\n",
    "from torch import device\n",
    "from tqdm import tqdm_notebook\n",
    "import numpy as np\n",
    "import matplotlib.pyplot as plt\n",
    "import seaborn as sns\n",
    "from sklearn.metrics import confusion_matrix"
   ]
  }
 ],
 "metadata": {
  "kernelspec": {
   "display_name": "Python 3",
   "language": "python",
   "name": "python3"
  },
  "language_info": {
   "codemirror_mode": {
    "name": "ipython",
    "version": 3
   },
   "file_extension": ".py",
   "mimetype": "text/x-python",
   "name": "python",
   "nbconvert_exporter": "python",
   "pygments_lexer": "ipython3",
   "version": "3.7.3"
  }
 },
 "nbformat": 4,
 "nbformat_minor": 2
}
